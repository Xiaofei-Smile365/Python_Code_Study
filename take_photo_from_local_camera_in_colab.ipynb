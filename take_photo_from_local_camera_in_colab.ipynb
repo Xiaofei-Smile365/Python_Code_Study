{
  "nbformat": 4,
  "nbformat_minor": 0,
  "metadata": {
    "colab": {
      "name": "take_photo_from_local_camera_in_colab.ipynb",
      "provenance": [],
      "collapsed_sections": [],
      "authorship_tag": "ABX9TyPPmF/zUmlWn5R/MzlaCjOO",
      "include_colab_link": true
    },
    "kernelspec": {
      "name": "python3",
      "display_name": "Python 3"
    }
  },
  "cells": [
    {
      "cell_type": "markdown",
      "metadata": {
        "id": "view-in-github",
        "colab_type": "text"
      },
      "source": [
        "<a href=\"https://colab.research.google.com/github/Xiaofei-Smile365/Python_Code_Study/blob/main/take_photo_from_local_camera_in_colab.ipynb\" target=\"_parent\"><img src=\"https://colab.research.google.com/assets/colab-badge.svg\" alt=\"Open In Colab\"/></a>"
      ]
    },
    {
      "cell_type": "code",
      "metadata": {
        "id": "tx4Cr4sQIqw6"
      },
      "source": [
        "from IPython.display import HTML, Audio\r\n",
        "from google.colab.output import eval_js\r\n",
        "from base64 import b64decode\r\n",
        "import numpy as np\r\n",
        "import io\r\n",
        "from PIL import Image\r\n",
        "\r\n",
        "VIDEO_HTML = \"\"\"\r\n",
        "<video autoplay\r\n",
        " width=%d height=%d style='cursor: pointer;'></video>\r\n",
        "<script>\r\n",
        "\r\n",
        "var video = document.querySelector('video')\r\n",
        "\r\n",
        "navigator.mediaDevices.getUserMedia({ video: true })\r\n",
        "  .then(stream=> video.srcObject = stream)\r\n",
        "  \r\n",
        "var data = new Promise(resolve=>{\r\n",
        "  video.onclick = ()=>{\r\n",
        "    var canvas = document.createElement('canvas')\r\n",
        "    var [w,h] =[video.offsetWidth, video.offsetHeight]\r\n",
        "    canvas.width = w\r\n",
        "    canvas.height = h\r\n",
        "    canvas.getContext('2d')\r\n",
        "          .drawImage(video, 0, 0, w, h)\r\n",
        "    video.srcObject.getVideoTracks()[0].stop()\r\n",
        "    video.replaceWith(canvas)\r\n",
        "    resolve(canvas.toDataURL('image/jpeg', %f))\r\n",
        "  }\r\n",
        "})\r\n",
        "</script>\r\n",
        "\"\"\"\r\n",
        "\r\n",
        "def take_photo(filename='photo.jpg', quality=0.8, size=(300,150)):\r\n",
        "  display(HTML(VIDEO_HTML % (size[0],size[1],quality)))\r\n",
        "\r\n",
        "  data = eval_js(\"data\")\r\n",
        "  binary = b64decode(data.split(',')[1])\r\n",
        "  f = io.BytesIO(binary)\r\n",
        "\r\n",
        "  return np.asarray(Image.open(f))\r\n",
        "\r\n",
        "img = take_photo()\r\n",
        "im = Image.fromarray(img)\r\n",
        "\r\n",
        "im.save(\"./test.jpg\")"
      ],
      "execution_count": null,
      "outputs": []
    }
  ]
}